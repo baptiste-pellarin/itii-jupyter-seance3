{
 "cells": [
  {
   "cell_type": "markdown",
   "metadata": {},
   "source": [
    "# Exercice 1"
   ]
  },
  {
   "cell_type": "code",
   "execution_count": 49,
   "metadata": {},
   "outputs": [
    {
     "data": {
      "image/png": "[encoded data removed]",
      "text/plain": [
       "<Figure size 432x288 with 1 Axes>"
      ]
     },
     "metadata": {
      "needs_background": "light"
     },
     "output_type": "display_data"
    }
   ],
   "source": [
    "import numpy as np\n",
    "import matplotlib.pyplot as plt\n",
    "\n",
    "class f:\n",
    "    def __init__(self, a: int, b: int, step : float = 2):\n",
    "        \n",
    "        self.I = np.arange(a, b, step)        \n",
    "        self.results = []\n",
    "        \n",
    "        self.monotone = True\n",
    "        self.fonction()\n",
    "        \n",
    "    def fonction(self):\n",
    "        for i in self.I:\n",
    "            result = np.power(i, 3)+2*i-2\n",
    "            #result = np.sin(i)\n",
    "            self.results.append(result)\n",
    "        return self.results\n",
    "    \n",
    "    def isMono(self):\n",
    "        for key, value in enumerate(self.results):\n",
    "            if key > 0:\n",
    "                if not self.results[key] >= self.results[key -1] and not self.results[key] <= self.results[key -1]:\n",
    "                    self.monotone = False\n",
    "                    #print(self.results[key], self.results[key-1])\n",
    "        print(\"Monotone\") if self.monotone else print(\"Fonctions non monotone\")\n",
    "\n",
    "    def racine(self, N):\n",
    "        i = 0\n",
    "        while i < N:\n",
    "            \n",
    "            \n",
    "            i += 1\n",
    "        \n",
    "    def trace(self):\n",
    "        plt.plot(self.I, self.results)\n",
    "        plt.show()\n",
    "           \n",
    "                \n",
    "    \n",
    "    \n",
    "\n",
    "fction = f(0, 100, 0.01)\n",
    "fction.trace()\n",
    "\n",
    "\n",
    "\n",
    "\n",
    "\n",
    "            \n",
    "    "
   ]
  },
  {
   "cell_type": "markdown",
   "metadata": {},
   "source": [
    "# Exercice 2"
   ]
  },
  {
   "cell_type": "code",
   "execution_count": null,
   "metadata": {},
   "outputs": [],
   "source": [
    "import numpy as np\n",
    "\n",
    "class CarreMagique():\n",
    "    def __init__(self):\n",
    "        pass\n",
    "    \n",
    "def est_carre_magique(carre):\n",
    "    \n",
    "        "
   ]
  }
 ],
 "metadata": {
  "kernelspec": {
   "display_name": "Python 3",
   "language": "python",
   "name": "python3"
  },
  "language_info": {
   "codemirror_mode": {
    "name": "ipython",
    "version": 3
   },
   "file_extension": ".py",
   "mimetype": "text/x-python",
   "name": "python",
   "nbconvert_exporter": "python",
   "pygments_lexer": "ipython3",
   "version": "3.7.6"
  }
 },
 "nbformat": 4,
 "nbformat_minor": 4
}
